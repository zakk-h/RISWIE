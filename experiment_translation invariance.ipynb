{
 "cells": [
  {
   "cell_type": "code",
   "execution_count": 1,
   "id": "initial_id",
   "metadata": {
    "collapsed": true,
    "ExecuteTime": {
     "end_time": "2025-06-06T17:17:19.118355Z",
     "start_time": "2025-06-06T17:17:17.812985Z"
    }
   },
   "outputs": [],
   "source": [
    "import numpy as np\n",
    "import matplotlib.pyplot as plt\n",
    "from sklearn import datasets\n",
    "from sklearn.decomposition import PCA\n",
    "from scipy.stats import wasserstein_distance\n",
    "from scipy.optimize import linear_sum_assignment\n",
    "from scipy.spatial.distance import cdist\n",
    "from scipy.linalg import eigh\n",
    "import ot  \n",
    "from scipy.spatial import procrustes\n"
   ]
  },
  {
   "cell_type": "code",
   "outputs": [],
   "source": [
    "def generate_point_cloud(kind='gaussian', n=1000, noise=0.05, random_state=42)\n",
    "\"\"\"\n",
    "Generate two-dimensional point clouds of different distributions:\n",
    "-kind = 'gaussian' : Standard normal distribution (N(0,I ₂))\n",
    "-kind = 'spiral' : Two-dimensional spiral with a small amount of noise added\n",
    "-kind = 'circle' : Unit circumference, with a small amount of noise added\n",
    "-kind = 'banana' : Two-dimensional banana-shaped curve (y = x^2) + noise\n",
    "-kind = 'swissroll': Swiss roll (Only two dimensions are taken and standardized after generation)\n",
    "Parameter:\n",
    "kind: String, point cloud type\n",
    "n: Number of points\n",
    "noise: Amplitude of noise\n",
    "random_state: Random seed\n",
    "Return:\n",
    "X: A numpy array of (n,2)\n",
    "\"\"\"\n",
    "\n",
    "    np.random.seed(random_state)\n",
    "    if kind == 'gaussian':\n",
    "        # 1. First, it becomes a \"clean\" standard normal point cloud X0\n",
    "        X0 = np.random.randn(n, 2)\n",
    "        # 2. add gaussian noise\n",
    "        noise_mat = noise * np.random.randn(n, 2)\n",
    "        X = X0 + noise_mat\n",
    "\n",
    "    elif kind == 'spiral':\n",
    "        t = np.linspace(0, 4 * np.pi, n)\n",
    "        x = t * np.cos(t)\n",
    "        y = t * np.sin(t)\n",
    "        X = np.stack([x, y], axis=1) + noise * np.random.randn(n, 2)\n",
    "    elif kind == 'circle':\n",
    "        t = np.linspace(0, 2 * np.pi, n)\n",
    "        x = np.cos(t)\n",
    "        y = np.sin(t)\n",
    "        X = np.stack([x, y], axis=1) + noise * np.random.randn(n, 2)\n",
    "    elif kind == 'banana':\n",
    "        t = np.linspace(-1, 1, n)\n",
    "        x = t\n",
    "        y = t**2 + noise * np.random.randn(n)\n",
    "        X = np.stack([x, y], axis=1)\n",
    "    elif kind == 'swissroll':\n",
    "        X3, _ = datasets.make_swiss_roll(n_samples=n, noise=noise, random_state=random_state)\n",
    "        X = X3[:, [0, 2]]  # 只取 x,z 两维\n",
    "        X = (X - X.mean(axis=0)) / X.std(axis=0)  # 标准化\n",
    "    else:\n",
    "        raise ValueError(f\"Unknown point cloud kind: {kind}\")\n",
    "    return X\n"
   ],
   "metadata": {
    "collapsed": false,
    "ExecuteTime": {
     "end_time": "2025-06-06T17:17:20.596744Z",
     "start_time": "2025-06-06T17:17:20.589469Z"
    }
   },
   "id": "42fb4d2a24b73ac6",
   "execution_count": 2
  },
  {
   "cell_type": "code",
   "outputs": [
    {
     "ename": "IndentationError",
     "evalue": "expected an indented block after function definition on line 1 (263585060.py, line 2)",
     "output_type": "error",
     "traceback": [
      "\u001B[0;36m  Cell \u001B[0;32mIn[18], line 2\u001B[0;36m\u001B[0m\n\u001B[0;31m    \"\"\"\u001B[0m\n\u001B[0m    ^\u001B[0m\n\u001B[0;31mIndentationError\u001B[0m\u001B[0;31m:\u001B[0m expected an indented block after function definition on line 1\n"
     ]
    }
   ],
   "source": [
    "def center_and_pca(X, n_components=None):\n",
    "\"\"\"\n",
    "Centralize data X and perform PCA.\n",
    "Parameter:\n",
    "X: (n, d) Original point cloud\n",
    "n_components: The number of principal components to be retained. If it is None, all d will be retained.\n",
    "Return:\n",
    "Xc: (n, d), centralized data\n",
    "axes: (n_components, d), PCA component vector (components_)\n",
    "projections: (n, n_components), the coordinates projected onto the principal components\n",
    "\"\"\"\n",
    "    Xc = X - X.mean(axis=0)  \n",
    "    d = X.shape[1]\n",
    "    if n_components is None:\n",
    "        n_components = d\n",
    "    pca = PCA(n_components=n_components)\n",
    "    projections = pca.fit_transform(Xc)  # get (n, n_components)\n",
    "    axes = pca.components_              # get (n_components, d)\n",
    "    return Xc, axes, projections\n"
   ],
   "metadata": {
    "collapsed": false,
    "ExecuteTime": {
     "end_time": "2025-06-06T17:56:39.170381Z",
     "start_time": "2025-06-06T17:56:39.162142Z"
    }
   },
   "id": "6b30cfef2f9ea0f1",
   "execution_count": 18
  },
  {
   "cell_type": "code",
   "outputs": [],
   "source": [
    "def pairwise_wasserstein_costs(proj_X, proj_Y):\n",
    "\"\"\"\n",
    "Given the projection coordinates of two point clouds in each principal component direction: proj_X and proj_Y are of shape (n, d).\n",
    "Calculate cost_matrix (d, d), where\n",
    "cost_matrix[i, j] = min( W2^2(proj_X[:, i],  proj_Y[:, j]),\n",
    "W2^2(proj_X[:, i], -proj_Y[:, j]) )\n",
    "The purpose is to consider two possible sign flips, namely the forward projection and the \"projection after multiplying by -1\", to obtain a smaller Wasserstein cost.\n",
    "Parameter:\n",
    "proj_X: numpy.ndarray, Shape (n, d)\n",
    "proj_Y: numpy.ndarray, shape (n, d)\n",
    "Return:\n",
    "cost_matrix: numpy.ndarray, shape (d, d)\n",
    "    \"\"\"\n",
    "    n, d = proj_X.shape\n",
    "    cost_matrix = np.zeros((d, d))\n",
    "    for i in range(d):\n",
    "        x_proj = proj_X[:, i]        #One-dimensional projection coordinates (length n) of X in the i-th principal component direction\n",
    "        for j in range(d):\n",
    "            y_proj = proj_Y[:, j]    # One-dimensional projection coordinates (length n) of Y in the JTH principal component direction\n",
    "            w2_1 = wasserstein_distance(x_proj, y_proj) ** 2    # direct comparison\n",
    "            w2_2 = wasserstein_distance(x_proj, -y_proj) ** 2   # Compare the situation of translating symbols with the Y projection\n",
    "            cost_matrix[i, j] = min(w2_1, w2_2)\n",
    "    return cost_matrix\n"
   ],
   "metadata": {
    "collapsed": false,
    "ExecuteTime": {
     "end_time": "2025-06-06T17:17:21.340569Z",
     "start_time": "2025-06-06T17:17:21.335828Z"
    }
   },
   "id": "b364e063a6a01722",
   "execution_count": 4
  },
  {
   "cell_type": "code",
   "outputs": [],
   "source": [
    "def riswie_distance_from_cost(cost_matrix):\n",
    "    \"\"\"\n",
    "    Given cost_matrix (d, d), the Hungarian algorithm is used to find the optimal one-to-one match between rows and columns.\n",
    "Make ∑ cost_matrix[i, π(i)] the smallest. Then follow the formula\n",
    "RISWIE = SQRT (∑ _ (1 / d) * (I, j)} {matching cost_matrix [I, j])\n",
    "Calculate the distance.\n",
    "Return:\n",
    "riswie_dist: A scalar\n",
    "(row_ind, col_ind): The matching index output by the Hungarian algorithm\n",
    "    \"\"\"\n",
    "    row_ind, col_ind = linear_sum_assignment(cost_matrix)\n",
    "    total_cost = cost_matrix[row_ind, col_ind].sum()\n",
    "    m = cost_matrix.shape[0]            #  d\n",
    "    riswie_dist = np.sqrt(total_cost / m)\n",
    "    return riswie_dist, (row_ind, col_ind)\n"
   ],
   "metadata": {
    "collapsed": false,
    "ExecuteTime": {
     "end_time": "2025-06-06T17:17:21.692209Z",
     "start_time": "2025-06-06T17:17:21.688482Z"
    }
   },
   "id": "fede9066a93835e",
   "execution_count": 5
  },
  {
   "cell_type": "code",
   "outputs": [],
   "source": [
    "def diffusion_map_embedding(X, m=2, epsilon=None, t=1):\n",
    "    \"\"\"\n",
    "Perform Diffusion Map embedding on point cloud X and return the first m nontrivial feature values/vectors and feature coordinates.\n",
    "Parameter:\n",
    "X: (n, d) point cloud\n",
    "m: The number of nontrivial diffusion coordinates that you want to retain\n",
    "epsilon: Gaussian kernel width (If None, use the median heuristic)\n",
    "t: diffusion time step (default 1)\n",
    "Return:\n",
    "eigvals: (m,) The first m nontrivial eigenvalues\n",
    "eigvecs: (n, m) corresponding feature vectors\n",
    "feat: (n, m) diffusion Feature Coordinates (eigvecs * eigvals^t)\n",
    "\"\"\"\n",
    "    n = X.shape[0]\n",
    "    # 1) Calculate the square Euclidean distance matrix D between all point pairs\n",
    "    D = cdist(X, X, metric='sqeuclidean')\n",
    "\n",
    "    # 2) If the user does not specify epsilon, use the median of all non-zero elements in D\n",
    "    if epsilon is None:\n",
    "        eps = np.median(D[D > 0])\n",
    "        epsilon = eps if eps > 0 else 1.0\n",
    "\n",
    "    # 3) Construct the Gaussian kernel matrix K_{ij} = exp(-D_{ij} / epsilon)\n",
    "    K = np.exp(-D / epsilon)\n",
    "\n",
    "    # 4) Symmetrical normalizationP = D^{-1/2} K D^{-1/2}\n",
    "    #    其中 d_i = sum_j K_{ij}，所以 D_matrix = diag(d_i)，然后 P = D^{-1/2} K D^{-1/2}\n",
    "    d = K.sum(axis=1)\n",
    "    D_inv_sqrt = np.diag(1 / np.sqrt(d + 1e-12))  # 避免 d_i=0\n",
    "    P = D_inv_sqrt @ K @ D_inv_sqrt\n",
    "\n",
    "    # 5) Perform feature decomposition on P to obtain all eigenvalues and eigenvectors\n",
    "    eigvals_all, eigvecs_all = eigh(P)\n",
    "\n",
    "    # 6) Sort the eigenvalues in descending order\n",
    "    idx = np.argsort(eigvals_all)[::-1]\n",
    "    eigvals_all = eigvals_all[idx]\n",
    "    eigvecs_all = eigvecs_all[:, idx]\n",
    "\n",
    "    # 7)Skip the first (trivial) eigenvalue 1 and obtain the following m \"nontrivial\" eigenpairs\n",
    "    eigvals = eigvals_all[1 : m + 1]\n",
    "    eigvecs = eigvecs_all[:, 1 : m + 1]\n",
    "\n",
    "    # 8) Calculate the diffusion feature coordinates: eigvecs * (eigvals^t)\n",
    "    feat = eigvecs * (eigvals[np.newaxis, :] ** t)\n",
    "\n",
    "    return eigvals, eigvecs, feat\n"
   ],
   "metadata": {
    "collapsed": false,
    "ExecuteTime": {
     "end_time": "2025-06-06T17:17:22.038452Z",
     "start_time": "2025-06-06T17:17:22.032141Z"
    }
   },
   "id": "5e2072a1dfb16319",
   "execution_count": 6
  },
  {
   "cell_type": "code",
   "outputs": [],
   "source": [
    "def sliced_wasserstein_distance(X, Y, n_proj=100):\n",
    "    \"\"\"\n",
    "Perform multiple random 1D projections and take the average W2 distance.\n",
    "Parameter:\n",
    "X, Y: (n, d) point cloud\n",
    "n_proj: The number of random projection directions. The larger it is, the more accurate it is but the more time-consuming it is\n",
    "Return:\n",
    "Sw_dist: scalar, namely SQRT (mean_ {k} (W2 ^ 2 (X_proj_k Y_proj_k)))\n",
    "    \"\"\"\n",
    "    d = X.shape[1]\n",
    "    sw2_list = []\n",
    "    for _ in range(n_proj):\n",
    "        direction = np.random.randn(d)\n",
    "        direction /= np.linalg.norm(direction)   # Unit vector\n",
    "        X_proj = X @ direction    # (n,)  One-dimensional projection coordinate\n",
    "        Y_proj = Y @ direction    # (n,)  One-dimensional projection coordinate\n",
    "        w2 = wasserstein_distance(X_proj, Y_proj) ** 2\n",
    "        sw2_list.append(w2)\n",
    "    sw2_mean = np.mean(sw2_list)\n",
    "    return np.sqrt(sw2_mean)\n"
   ],
   "metadata": {
    "collapsed": false,
    "ExecuteTime": {
     "end_time": "2025-06-06T17:17:22.366233Z",
     "start_time": "2025-06-06T17:17:22.361574Z"
    }
   },
   "id": "49d38c44817422d",
   "execution_count": 7
  },
  {
   "cell_type": "code",
   "outputs": [],
   "source": [
    "def gromov_wasserstein_distance(\n",
    "    X, Y,\n",
    "    loss_fun='square_loss',\n",
    "    max_iter=50,\n",
    "    tol=1e-5,\n",
    "    eps_diagonal=1e-8\n",
    "):\n",
    "    \"\"\"\n",
    "Calculate the Gromov-Wasserstein distance between the two groups of point clouds and strictly avoid returning NaN.\n",
    "Parameter:\n",
    "X, Y: (n, d) numpy array, point cloud\n",
    "loss_fun: The names of the loss functions supported by POT, such as 'square_loss'\n",
    "max_iter: The maximum number of iterations within POT\n",
    "tol: Convergence threshold\n",
    "eps_diagonal: Add tiny perturbations to the diagonal of the distance matrix to prevent singularities caused by entire rows/columns being zero\n",
    "Return:\n",
    "gw: Scalar, sqrt(gw2). If an exception occurs or the value is less than 0, return 0.0 directly.\n",
    "    \"\"\"\n",
    "    n1, n2 = X.shape[0], Y.shape[0]\n",
    "\n",
    "    # 1. Calculate the Euclidean distance matrix\n",
    "    C1 = cdist(X, X, metric='euclidean')\n",
    "    C2 = cdist(Y, Y, metric='euclidean')\n",
    "\n",
    "    # 2. Add a little noise along the diagonal to avoid internal instability caused by entire rows/columns being zero\n",
    "    np.fill_diagonal(C1, C1.diagonal() + eps_diagonal)\n",
    "    np.fill_diagonal(C2, C2.diagonal() + eps_diagonal)\n",
    "\n",
    "    # 3. Construct a uniformly distributed weight vector\n",
    "    p1 = np.ones(n1) / n1\n",
    "    p2 = np.ones(n2) / n2\n",
    "\n",
    "    # 4. Call gromov_wasserstein2 in POT and place it in try/except to prevent unexpected crashes\n",
    "    try:\n",
    "        gw2 = ot.gromov.gromov_wasserstein2(\n",
    "            C1, C2, p1, p2, loss_fun,\n",
    "            max_iter=max_iter,\n",
    "            tol=tol,\n",
    "            verbose=False\n",
    "        )\n",
    "    except Exception as e:\n",
    "        # If there is an error in the internal calculation of POT (such as singular matrices, division by 0, etc.), simply set gw2 = 0\n",
    "        gw2 = 0.0\n",
    "\n",
    "    # 5. If gw2 shows a negative value or NaN, set it to 0\n",
    "    if np.isnan(gw2) or gw2 < 0:\n",
    "        gw2 = 0.0\n",
    "\n",
    "    # 6. return sqrt(gw2)\n",
    "    gw = np.sqrt(gw2)\n",
    "    return gw\n"
   ],
   "metadata": {
    "collapsed": false,
    "ExecuteTime": {
     "end_time": "2025-06-06T17:17:22.706618Z",
     "start_time": "2025-06-06T17:17:22.700871Z"
    }
   },
   "id": "6861e8395d95a848",
   "execution_count": 8
  },
  {
   "cell_type": "code",
   "outputs": [],
   "source": [
    "def standard_ot_distance(X, Y):\n",
    "    \"\"\"\n",
    "Calculate the total standard OT cost between two groups of point clouds (without taking the square root), formula:\n",
    "cost = sum_{i,j} T_{ij} * cost_mat[i,j]\n",
    "Among them, T = ot.emd(p, q, cost_mat) is the \"transport matrix\", and cost_mat[i,j] = distance(x_i, y_j).\n",
    "Parameter:\n",
    "X, Y: (n, d) point cloud (the number of points n in the two groups should be equal)\n",
    "Return:\n",
    "ot_cost: Scalar\n",
    "    \"\"\"\n",
    "    n = X.shape[0]\n",
    "    cost_mat = cdist(X, Y, metric='euclidean')  # The Euclidean distance of each pair (x_i, y_j)\n",
    "    p = np.ones(n) / n   # It is uniformly distributed on X\n",
    "    q = np.ones(n) / n   # It is uniformly distributed on Y\n",
    "    T = ot.emd(p, q, cost_mat)  # Solve the optimal transportation scheme (Earth Mover's Distance)\n",
    "    ot_cost = np.sum(T * cost_mat)\n",
    "    return ot_cost\n"
   ],
   "metadata": {
    "collapsed": false,
    "ExecuteTime": {
     "end_time": "2025-06-06T17:17:23.032595Z",
     "start_time": "2025-06-06T17:17:23.028372Z"
    }
   },
   "id": "4b85e0b494c55602",
   "execution_count": 9
  },
  {
   "cell_type": "code",
   "outputs": [],
   "source": [
    "def procrustes_distance(X, Y):\n",
    "    \"\"\"\n",
    "    使用 scipy.spatial.procrustes 计算两组点云的 Procrustes disparity，\n",
    "    返回 sqrt(disparity) 作为距离。\n",
    "    \"\"\"\n",
    "    mtx1, mtx2, disparity = procrustes(X, Y)\n",
    "    return np.sqrt(disparity)\n"
   ],
   "metadata": {
    "collapsed": false,
    "ExecuteTime": {
     "end_time": "2025-06-06T17:17:23.346071Z",
     "start_time": "2025-06-06T17:17:23.343204Z"
    }
   },
   "id": "3ee2acf829fab0ba",
   "execution_count": 10
  },
  {
   "cell_type": "code",
   "outputs": [],
   "source": [
    "def centroid_distance(X, Y):\n",
    "    \"\"\"\n",
    "    计算两组点云质心之间的欧氏距离，即：\n",
    "      || mean(X) - mean(Y) ||\n",
    "    参数：\n",
    "      X, Y: (n, d) 点云\n",
    "    返回：\n",
    "      标量\n",
    "    \"\"\"\n",
    "    return np.linalg.norm(X.mean(axis=0) - Y.mean(axis=0))\n"
   ],
   "metadata": {
    "collapsed": false,
    "ExecuteTime": {
     "end_time": "2025-06-06T17:17:23.717643Z",
     "start_time": "2025-06-06T17:17:23.714399Z"
    }
   },
   "id": "507c80003530ee63",
   "execution_count": 11
  },
  {
   "cell_type": "code",
   "outputs": [
    {
     "data": {
      "text/plain": "<Figure size 1500x300 with 5 Axes>",
      "image/png": "[encoded data removed]"
     },
     "metadata": {},
     "output_type": "display_data"
    }
   ],
   "source": [
    "if __name__ == \"__main__\":\n",
    "    kinds = ['gaussian', 'spiral', 'circle', 'banana', 'swissroll']\n",
    "    plt.figure(figsize=(15, 3))\n",
    "    for i, k in enumerate(kinds):\n",
    "        X_temp = generate_point_cloud(kind=k, n=800, noise=0.05, random_state=0)\n",
    "        plt.subplot(1, 5, i + 1)\n",
    "        plt.scatter(X_temp[:, 0], X_temp[:, 1], s=3)\n",
    "        plt.title(k)\n",
    "        plt.xticks([])\n",
    "        plt.yticks([])\n",
    "    plt.tight_layout()\n",
    "    plt.show()\n"
   ],
   "metadata": {
    "collapsed": false,
    "ExecuteTime": {
     "end_time": "2025-06-06T17:17:24.343388Z",
     "start_time": "2025-06-06T17:17:24.092480Z"
    }
   },
   "id": "b9a548d4250402ba",
   "execution_count": 12
  },
  {
   "cell_type": "code",
   "outputs": [],
   "source": [
    "def evaluate_translations(\n",
    "    kind='gaussian',\n",
    "    n_points=1000,\n",
    "    noise=0.05,\n",
    "    random_state=42,\n",
    "    n_translations=10,\n",
    "    max_shift=5.0\n",
    "):\n",
    "    \"\"\"\n",
    "    对给定类型的点云，生成多组随机平移，评估各方法距离。\n",
    "    返回一个字典：{方法名: [长度 = n_translations 的距离列表]}。\n",
    "    \"\"\"\n",
    "    np.random.seed(random_state)\n",
    "\n",
    "    # 1. 先生成原始点云 X\n",
    "    X = generate_point_cloud(kind=kind, n=n_points, noise=noise, random_state=random_state)\n",
    "\n",
    "    # 2. 预先对 X 做 PCA + Diffusion Embedding\n",
    "    Xc, axes_X, proj_X = center_and_pca(X)                     \n",
    "    eigvals_X, eigvecs_X, feat_X = diffusion_map_embedding(X, m=X.shape[1])  \n",
    "\n",
    "    # 3. 准备一个字典存放各方法距离值\n",
    "    methods = [\n",
    "        'RISWIE-PCA',\n",
    "        'RISWIE-Diffusion',\n",
    "        'SlicedW',\n",
    "        'GromovW',\n",
    "        'StandardOT',\n",
    "        'Procrustes',\n",
    "        'Centroid'\n",
    "    ]\n",
    "    results = {m: [] for m in methods}\n",
    "\n",
    "    # 4. 做 n_translations 次“随机平移”\n",
    "    for i in range(n_translations):\n",
    "        t = np.random.uniform(-max_shift, max_shift, size=2)  # 随机平移向量 t\n",
    "        Y = X + t  # Y 是平移后的点云\n",
    "\n",
    "        # --- 4.1 RISWIE-PCA ---\n",
    "        Yc, axes_Y, proj_Y = center_and_pca(Y)                       # 对 Y 做 PCA\n",
    "        cost_mat_pca = pairwise_wasserstein_costs(proj_X, proj_Y)    # 成本矩阵\n",
    "        riswie_pca, _ = riswie_distance_from_cost(cost_mat_pca)      # RISWIE 距离\n",
    "        results['RISWIE-PCA'].append(riswie_pca)\n",
    "\n",
    "        # --- 4.2 RISWIE-Diffusion ---\n",
    "        eigvals_Y, eigvecs_Y, feat_Y = diffusion_map_embedding(Y, m=proj_X.shape[1])\n",
    "        cost_mat_diff = pairwise_wasserstein_costs(feat_X, feat_Y)\n",
    "        riswie_diff, _ = riswie_distance_from_cost(cost_mat_diff)\n",
    "        results['RISWIE-Diffusion'].append(riswie_diff)\n",
    "\n",
    "        # --- 4.3 Sliced Wasserstein ---\n",
    "        sw = sliced_wasserstein_distance(X, Y, n_proj=100)\n",
    "        results['SlicedW'].append(sw)\n",
    "\n",
    "        # --- 4.4 Gromov–Wasserstein ---\n",
    "        gw = gromov_wasserstein_distance(X, Y)\n",
    "        results['GromovW'].append(gw)\n",
    "\n",
    "        # --- 4.5 Standard OT ---\n",
    "        ot_d = standard_ot_distance(X, Y)\n",
    "        results['StandardOT'].append(ot_d)\n",
    "\n",
    "        # --- 4.6 Procrustes ---\n",
    "        proc = procrustes_distance(X, Y)\n",
    "        results['Procrustes'].append(proc)\n",
    "\n",
    "        # --- 4.7 Centroid ---\n",
    "        cent = centroid_distance(X, Y)\n",
    "        results['Centroid'].append(cent)\n",
    "\n",
    "    return results\n"
   ],
   "metadata": {
    "collapsed": false,
    "ExecuteTime": {
     "end_time": "2025-06-06T17:17:24.565083Z",
     "start_time": "2025-06-06T17:17:24.557600Z"
    }
   },
   "id": "ca38e6070dc3b99b",
   "execution_count": 13
  },
  {
   "cell_type": "code",
   "outputs": [
    {
     "name": "stdout",
     "output_type": "stream",
     "text": [
      "RISWIE-PCA: [0. 0. 0. 0. 0. 0. 0. 0. 0. 0.]\n",
      "RISWIE-Diffusion: [0. 0. 0. 0. 0. 0. 0. 0. 0. 0.]\n",
      "SlicedW: [2.7926 2.1089 3.73   2.5697 2.816  3.0676 2.6572 2.4275 0.619  3.0197]\n",
      "GromovW: [0. 0. 0. 0. 0. 0. 0. 0. 0. 0.]\n",
      "StandardOT: [4.1487 3.1004 5.0532 3.6516 3.9217 4.3477 3.7276 3.5663 0.9176 4.2027]\n",
      "Procrustes: [0. 0. 0. 0. 0. 0. 0. 0. 0. 0.]\n",
      "Centroid: [4.1487 3.1004 5.0532 3.6516 3.9217 4.3477 3.7276 3.5663 0.9176 4.2027]\n"
     ]
    }
   ],
   "source": [
    "# 调用示例：对“Gaussian”点云做 10 次随机平移（[-5,5] 区间），并打印结果\n",
    "results_gauss = evaluate_translations(\n",
    "    kind='gaussian',\n",
    "    n_points=1000,\n",
    "    noise=0.05,\n",
    "    random_state=42,\n",
    "    n_translations=10,\n",
    "    max_shift=5.0\n",
    ")\n",
    "\n",
    "for method, vals in results_gauss.items():\n",
    "    print(f\"{method}: {np.round(vals, 4)}\")\n"
   ],
   "metadata": {
    "collapsed": false,
    "ExecuteTime": {
     "end_time": "2025-06-06T17:19:09.440012Z",
     "start_time": "2025-06-06T17:18:16.065948Z"
    }
   },
   "id": "b38865ae2744cd6d",
   "execution_count": 15
  },
  {
   "cell_type": "code",
   "outputs": [
    {
     "name": "stdout",
     "output_type": "stream",
     "text": [
      "RISWIE-PCA: [0. 0. 0. 0. 0. 0. 0. 0. 0. 0.]\n",
      "RISWIE-Diffusion: [0. 0. 0. 0. 0. 0. 0. 0. 0. 0.]\n",
      "SlicedW: [2.7926 2.1089 3.73   2.5697 2.816  3.0676 2.6572 2.4275 0.619  3.0197]\n",
      "GromovW: [0. 0. 0. 0. 0. 0. 0. 0. 0. 0.]\n",
      "StandardOT: [4.1487 3.1004 5.0532 3.6516 3.9217 4.3477 3.7276 3.5663 0.9176 4.2027]\n",
      "Procrustes: [0. 0. 0. 0. 0. 0. 0. 0. 0. 0.]\n",
      "Centroid: [4.1487 3.1004 5.0532 3.6516 3.9217 4.3477 3.7276 3.5663 0.9176 4.2027]\n"
     ]
    }
   ],
   "source": [
    "# 调用示例：对“Gaussian”点云做 10 次随机平移（[-5,5] 区间），并打印结果\n",
    "results_gauss = evaluate_translations(\n",
    "    kind='gaussian',\n",
    "    n_points=1000,\n",
    "    noise=0.2,\n",
    "    random_state=42,\n",
    "    n_translations=10,\n",
    "    max_shift=5.0\n",
    ")\n",
    "\n",
    "for method, vals in results_gauss.items():\n",
    "    print(f\"{method}: {np.round(vals, 4)}\")"
   ],
   "metadata": {
    "collapsed": false,
    "ExecuteTime": {
     "end_time": "2025-06-06T17:23:11.122057Z",
     "start_time": "2025-06-06T17:22:03.902810Z"
    }
   },
   "id": "852865bd209dc287",
   "execution_count": 17
  },
  {
   "cell_type": "code",
   "outputs": [],
   "source": [],
   "metadata": {
    "collapsed": false
   },
   "id": "1d00626e6de617dd"
  }
 ],
 "metadata": {
  "kernelspec": {
   "display_name": "Python 3",
   "language": "python",
   "name": "python3"
  },
  "language_info": {
   "codemirror_mode": {
    "name": "ipython",
    "version": 2
   },
   "file_extension": ".py",
   "mimetype": "text/x-python",
   "name": "python",
   "nbconvert_exporter": "python",
   "pygments_lexer": "ipython2",
   "version": "2.7.6"
  }
 },
 "nbformat": 4,
 "nbformat_minor": 5
}
